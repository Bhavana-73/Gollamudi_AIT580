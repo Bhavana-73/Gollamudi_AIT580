{
 "cells": [
  {
   "cell_type": "code",
   "execution_count": 85,
   "metadata": {},
   "outputs": [
    {
     "name": "stdout",
     "output_type": "stream",
     "text": [
      "[['Learning Python', 'Mark Lutz', \"O'Reilly Media\", 'June 2013'], ['Web Scraping with Python', 'Ryan Mitchell', \"O'Reilly Media\", 'November 2017'], ['Python Coding for Kids', 'Don Wilcher', 'Maker Media, Inc', 'September 2017'], ['Python Machine Learning By Example', 'Yuxi Liu', 'Packt Publishing', 'May 2017'], ['Python Data Structures and Algorithms', 'Benjamin Baka', 'Packt Publishing', 'May 2017'], ['Python in a Nutshell', 'Alex Martelli, Anna Ravenscroft', \"O'Reilly Media\", 'April 2017'], ['Invent Your Own Computer Games with Python', 'Al Sweigart', 'No Starch Press', 'December 2016'], ['Head First Python', 'Paul Barry', \"O'Reilly Media\", 'November 2016'], ['Integrating Python with Leading Computer Forensics Platforms', 'Chet Hosmer', 'Elsevier / Syngress', 'September 2016'], ['Data Science Essentials in Python', 'Dmitry Zinoviev', 'Pragmatic Bookshelf', 'August 2016']]\n",
      "                                               Title  \\\n",
      "0                                    Learning Python   \n",
      "1                           Web Scraping with Python   \n",
      "2                             Python Coding for Kids   \n",
      "3                 Python Machine Learning By Example   \n",
      "4              Python Data Structures and Algorithms   \n",
      "5                               Python in a Nutshell   \n",
      "6         Invent Your Own Computer Games with Python   \n",
      "7                                  Head First Python   \n",
      "8  Integrating Python with Leading Computer Foren...   \n",
      "9                  Data Science Essentials in Python   \n",
      "\n",
      "                         Author(S)           Publishers         Pubdate  \n",
      "0                        Mark Lutz       O'Reilly Media       June 2013  \n",
      "1                    Ryan Mitchell       O'Reilly Media   November 2017  \n",
      "2                      Don Wilcher     Maker Media, Inc  September 2017  \n",
      "3                         Yuxi Liu     Packt Publishing        May 2017  \n",
      "4                    Benjamin Baka     Packt Publishing        May 2017  \n",
      "5  Alex Martelli, Anna Ravenscroft       O'Reilly Media      April 2017  \n",
      "6                      Al Sweigart      No Starch Press   December 2016  \n",
      "7                       Paul Barry       O'Reilly Media   November 2016  \n",
      "8                      Chet Hosmer  Elsevier / Syngress  September 2016  \n",
      "9                  Dmitry Zinoviev  Pragmatic Bookshelf     August 2016  \n",
      "                                               Title  \\\n",
      "0                                    Learning Python   \n",
      "1                           Web Scraping with Python   \n",
      "2                             Python Coding for Kids   \n",
      "3                 Python Machine Learning By Example   \n",
      "4              Python Data Structures and Algorithms   \n",
      "5                               Python in a Nutshell   \n",
      "6         Invent Your Own Computer Games with Python   \n",
      "7                                  Head First Python   \n",
      "8  Integrating Python with Leading Computer Foren...   \n",
      "9                  Data Science Essentials in Python   \n",
      "\n",
      "                         Author(S)           Publishers         Pubdate  \n",
      "0                        Mark Lutz       O'Reilly Media       June 2013  \n",
      "1                    Ryan Mitchell       O'Reilly Media   November 2017  \n",
      "2                      Don Wilcher     Maker Media, Inc  September 2017  \n",
      "3                         Yuxi Liu     Packt Publishing        May 2017  \n",
      "4                    Benjamin Baka     Packt Publishing        May 2017  \n",
      "5  Alex Martelli, Anna Ravenscroft       O'Reilly Media      April 2017  \n",
      "6                      Al Sweigart      No Starch Press   December 2016  \n",
      "7                       Paul Barry       O'Reilly Media   November 2016  \n",
      "8                      Chet Hosmer  Elsevier / Syngress  September 2016  \n",
      "9                  Dmitry Zinoviev  Pragmatic Bookshelf     August 2016  \n"
     ]
    }
   ],
   "source": [
    "#Student Name: Bhavana Gollamudi\n",
    "\n",
    "#G Number: G01178657\n",
    "\n",
    "\n",
    "\n",
    "from bs4 import BeautifulSoup\n",
    "\n",
    "import urllib\n",
    "\n",
    "import csv\n",
    "\n",
    "small_example_html =\"https://repo.vse.gmu.edu/ait/AIT580/580books.html\"\n",
    "req=requests.get(small_example_html)  \n",
    "\n",
    "sou=BeautifulSoup(req.content,'html.parser')\n",
    "f=list()\n",
    "p=list()\n",
    "for j in soup.table.contents:\n",
    "        page = list()\n",
    "        if type(j).__name__ == 'Tag':\n",
    "            for element in j:\n",
    "                if type(element).__name__ == 'Tag':\n",
    "                    page.append(element.get_text().split('\\n')[1:5])\n",
    "            p.append(page)           \n",
    "p[0].pop(0)\n",
    "print(p[0])\n",
    "data = pd.DataFrame(p[0],columns=['Title','Author(S)','Publishers','Pubdate'])\n",
    "print(data)\n",
    "print(data)\n",
    "data.to_csv(\"output.csv\", index=False)"
   ]
  },
  {
   "cell_type": "code",
   "execution_count": 8,
   "metadata": {},
   "outputs": [
    {
     "name": "stdout",
     "output_type": "stream",
     "text": [
      "                 index  Publishers\n",
      "0       O'Reilly Media           4\n",
      "1     Packt Publishing           2\n",
      "2     Maker Media, Inc           1\n",
      "3      No Starch Press           1\n",
      "4  Elsevier / Syngress           1\n",
      "5  Pragmatic Bookshelf           1\n"
     ]
    },
    {
     "data": {
      "image/png": "[encoded data removed]",
      "text/plain": [
       "<Figure size 432x288 with 1 Axes>"
      ]
     },
     "metadata": {
      "needs_background": "light"
     },
     "output_type": "display_data"
    }
   ],
   "source": [
    "import pandas as pd\n",
    "import matplotlib.pyplot as plt\n",
    "\n",
    "data=pd.read_csv(\"output.csv\")\n",
    "# a. Print the frequency count for publishers (that is, how many books for each publisher). \n",
    "freque=pd.value_counts(data.Publishers).to_frame().reset_index()\n",
    "print(freque)\n",
    "plt.plot(pd.DataFrame(freque.Publishers),'ro')\n",
    "plt.show()\n"
   ]
  },
  {
   "cell_type": "code",
   "execution_count": 14,
   "metadata": {},
   "outputs": [
    {
     "name": "stdout",
     "output_type": "stream",
     "text": [
      "            index  Pubdate\n",
      "0        May 2017        2\n",
      "1  September 2016        1\n",
      "2   December 2016        1\n",
      "3     August 2016        1\n",
      "4      April 2017        1\n",
      "5   November 2016        1\n",
      "6       June 2013        1\n",
      "7  September 2017        1\n",
      "8   November 2017        1\n"
     ]
    },
    {
     "data": {
      "text/plain": [
       "[<matplotlib.lines.Line2D at 0x1a79f8d0e88>]"
      ]
     },
     "execution_count": 14,
     "metadata": {},
     "output_type": "execute_result"
    },
    {
     "data": {
      "image/png": "[encoded data removed]",
      "text/plain": [
       "<Figure size 432x288 with 1 Axes>"
      ]
     },
     "metadata": {
      "needs_background": "light"
     },
     "output_type": "display_data"
    }
   ],
   "source": [
    "pub_freq=pd.value_counts(data.Pubdate).to_frame().reset_index()\n",
    "print(pub_freq)\n",
    "plt.plot(pub_freq.Pubdate)"
   ]
  },
  {
   "cell_type": "code",
   "execution_count": null,
   "metadata": {},
   "outputs": [],
   "source": []
  }
 ],
 "metadata": {
  "kernelspec": {
   "display_name": "Python 3",
   "language": "python",
   "name": "python3"
  },
  "language_info": {
   "codemirror_mode": {
    "name": "ipython",
    "version": 3
   },
   "file_extension": ".py",
   "mimetype": "text/x-python",
   "name": "python",
   "nbconvert_exporter": "python",
   "pygments_lexer": "ipython3",
   "version": "3.7.4"
  }
 },
 "nbformat": 4,
 "nbformat_minor": 2
}
