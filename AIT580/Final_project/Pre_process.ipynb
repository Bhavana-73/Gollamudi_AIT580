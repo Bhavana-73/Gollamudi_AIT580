{
 "cells": [
  {
   "cell_type": "code",
   "execution_count": 1,
   "metadata": {},
   "outputs": [
    {
     "data": {
      "text/plain": [
       "1048575"
      ]
     },
     "execution_count": 1,
     "metadata": {},
     "output_type": "execute_result"
    }
   ],
   "source": [
    "import numpy as np\n",
    "import matplotlib.pyplot as plt\n",
    "import pandas as pd\n",
    "\n",
    "df = pd.read_csv('Consumer_Complaints.csv')\n",
    "df_1=pd.read_csv('Consumer_Complaints.csv')\n",
    "len(df)"
   ]
  },
  {
   "cell_type": "code",
   "execution_count": 2,
   "metadata": {},
   "outputs": [
    {
     "name": "stdout",
     "output_type": "stream",
     "text": [
      "Number of null values in each column\n",
      "Date received: 0\n",
      "Product: 0\n",
      "Sub-product: 194541\n",
      "Issue: 0\n",
      "Sub-issue: 417157\n",
      "Consumer complaint narrative: 716304\n",
      "Company public response: 666530\n",
      "Company: 0\n",
      "State: 16184\n",
      "ZIP code: 93163\n",
      "Tags: 905955\n",
      "Consumer consent provided?: 456319\n",
      "Submitted via: 0\n",
      "Date sent to company: 0\n",
      "Company response to consumer: 1\n",
      "Timely response?: 0\n",
      "Consumer disputed?: 434119\n",
      "Complaint ID: 0\n"
     ]
    }
   ],
   "source": [
    "print('Number of null values in each column')\n",
    "\n",
    "print('Date received:',len(df)-df['Date received'].value_counts().sum())\n",
    "print('Product:',len(df)-df['Product'].value_counts().sum())\n",
    "print('Sub-product:',len(df)-df['Sub-product'].value_counts().sum())\n",
    "print('Issue:',len(df)-df['Issue'].value_counts().sum())\n",
    "print('Sub-issue:',len(df)-df['Sub-issue'].value_counts().sum())\n",
    "print('Consumer complaint narrative:',len(df)-df['Consumer complaint narrative'].value_counts().sum())\n",
    "print('Company public response:',len(df)-df['Company public response'].value_counts().sum())\n",
    "print('Company:',len(df)-df['Company'].value_counts().sum())\n",
    "print('State:',len(df)-df['State'].value_counts().sum())\n",
    "print('ZIP code:',len(df)-df['ZIP code'].value_counts().sum())\n",
    "print('Tags:',len(df)-df['Tags'].value_counts().sum())\n",
    "print('Consumer consent provided?:',len(df)-df['Consumer consent provided?'].value_counts().sum())\n",
    "print('Submitted via:',len(df)-df['Submitted via'].value_counts().sum())\n",
    "print('Date sent to company:',len(df)-df['Date sent to company'].value_counts().sum())\n",
    "print('Company response to consumer:',len(df)-df['Company response to consumer'].value_counts().sum())\n",
    "print('Timely response?:',len(df)-df['Timely response?'].value_counts().sum())\n",
    "print('Consumer disputed?:',len(df)-df['Consumer disputed?'].value_counts().sum())\n",
    "print('Complaint ID:',len(df)-df['Complaint ID'].value_counts().sum())\n"
   ]
  },
  {
   "cell_type": "code",
   "execution_count": 3,
   "metadata": {
    "scrolled": true
   },
   "outputs": [
    {
     "name": "stdout",
     "output_type": "stream",
     "text": [
      "Dropping columnes with more nulls and not required for my analysis\n"
     ]
    }
   ],
   "source": [
    "print('Dropping columnes with more nulls and not required for my analysis')\n",
    "\n",
    "df=df.drop(columns=['Consumer complaint narrative', 'Company public response','ZIP code','Tags','Consumer consent provided?'])"
   ]
  },
  {
   "cell_type": "code",
   "execution_count": 4,
   "metadata": {},
   "outputs": [
    {
     "name": "stdout",
     "output_type": "stream",
     "text": [
      "1048574\n",
      "1032390\n"
     ]
    }
   ],
   "source": [
    "\n",
    "df = df.dropna(subset=['Company response to consumer'])\n",
    "print(len(df))\n",
    "df = df.dropna(subset=['State'])\n",
    "print(len(df))\n"
   ]
  },
  {
   "cell_type": "code",
   "execution_count": 6,
   "metadata": {},
   "outputs": [],
   "source": [
    "df.to_csv('Consumer_Com_preprocessed.csv')\n"
   ]
  },
  {
   "cell_type": "code",
   "execution_count": null,
   "metadata": {},
   "outputs": [],
   "source": []
  }
 ],
 "metadata": {
  "kernelspec": {
   "display_name": "Python 3",
   "language": "python",
   "name": "python3"
  },
  "language_info": {
   "codemirror_mode": {
    "name": "ipython",
    "version": 3
   },
   "file_extension": ".py",
   "mimetype": "text/x-python",
   "name": "python",
   "nbconvert_exporter": "python",
   "pygments_lexer": "ipython3",
   "version": "3.7.4"
  }
 },
 "nbformat": 4,
 "nbformat_minor": 2
}
